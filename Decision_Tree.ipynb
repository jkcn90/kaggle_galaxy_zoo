{
 "metadata": {
  "name": "",
  "signature": "sha256:54274209d719d1678c685f80ff1fcfc6a3c278ef8fb3cf5b071204f94440dcb6"
 },
 "nbformat": 3,
 "nbformat_minor": 0,
 "worksheets": [
  {
   "cells": [
    {
     "cell_type": "code",
     "collapsed": false,
     "input": [
      "#%matplotlib inline\n",
      "from matplotlib import pyplot as plt\n",
      "from galaxy_data import GalaxyData\n",
      "\n",
      "import numpy as np\n",
      "from sklearn import (tree, ensemble)\n",
      "import evaluate\n",
      "\n",
      "import StringIO\n",
      "import pydot\n",
      "\n",
      "import feature_extraction"
     ],
     "language": "python",
     "metadata": {},
     "outputs": [
      {
       "output_type": "stream",
       "stream": "stdout",
       "text": [
        "Running without denoise_tv_chambolle\n"
       ]
      }
     ],
     "prompt_number": 1
    },
    {
     "cell_type": "code",
     "collapsed": false,
     "input": [
      "data = GalaxyData(scale_features=False)\n",
      "(X_train, y_train) = data.get_training_data()\n",
      "(X_test, y_test) = data.get_test_data()"
     ],
     "language": "python",
     "metadata": {},
     "outputs": [
      {
       "output_type": "stream",
       "stream": "stdout",
       "text": [
        "Loading: output_data/default/feature_vectors_training\n",
        "Loading: output_data/default/feature_vectors_training"
       ]
      },
      {
       "output_type": "stream",
       "stream": "stdout",
       "text": [
        "\n"
       ]
      }
     ],
     "prompt_number": 2
    },
    {
     "cell_type": "code",
     "collapsed": false,
     "input": [
      "clf = ensemble.RandomForestRegressor(n_estimators=100, max_features='log2', n_jobs=-1)\n",
      "clf.fit(X_train, y_train)"
     ],
     "language": "python",
     "metadata": {},
     "outputs": [
      {
       "metadata": {},
       "output_type": "pyout",
       "prompt_number": 3,
       "text": [
        "RandomForestRegressor(bootstrap=True, compute_importances=None,\n",
        "           criterion='mse', max_depth=None, max_features='log2',\n",
        "           min_density=None, min_samples_leaf=1, min_samples_split=2,\n",
        "           n_estimators=100, n_jobs=-1, oob_score=False, random_state=None,\n",
        "           verbose=0)"
       ]
      }
     ],
     "prompt_number": 3
    },
    {
     "cell_type": "code",
     "collapsed": false,
     "input": [
      "def create_pdf(clf):\n",
      "    dot_data = StringIO.StringIO() \n",
      "    tree.export_graphviz(clf, out_file=dot_data) \n",
      "    graph = pydot.graph_from_dot_data(dot_data.getvalue()) \n",
      "    graph.write_pdf(\"tree.pdf\") \n",
      "#create_pdf(clf)"
     ],
     "language": "python",
     "metadata": {},
     "outputs": [],
     "prompt_number": 4
    },
    {
     "cell_type": "code",
     "collapsed": false,
     "input": [
      "score = evaluate.get_rmse_clf(clf, X_test, y_test)\n",
      "score"
     ],
     "language": "python",
     "metadata": {},
     "outputs": [
      {
       "metadata": {},
       "output_type": "pyout",
       "prompt_number": 5,
       "text": [
        "0.17339466638145629"
       ]
      }
     ],
     "prompt_number": 5
    },
    {
     "cell_type": "code",
     "collapsed": false,
     "input": [
      "a = clf.feature_importances_\n",
      "a = a.reshape(9, 9, 3)"
     ],
     "language": "python",
     "metadata": {},
     "outputs": [],
     "prompt_number": 6
    },
    {
     "cell_type": "code",
     "collapsed": false,
     "input": [
      "print(min(clf.feature_importances_))\n",
      "print(np.average(clf.feature_importances_))\n",
      "print(max(clf.feature_importances_))"
     ],
     "language": "python",
     "metadata": {},
     "outputs": [
      {
       "output_type": "stream",
       "stream": "stdout",
       "text": [
        "2.47471563691e-05\n",
        "0.00411522633745\n",
        "0.0367058889376"
       ]
      },
      {
       "output_type": "stream",
       "stream": "stdout",
       "text": [
        "\n"
       ]
      }
     ],
     "prompt_number": 8
    },
    {
     "cell_type": "code",
     "collapsed": false,
     "input": [
      "def plot_square(a):\n",
      "    plt.pcolor(np.max(a,axis=2))\n",
      "    plt.colorbar()\n",
      "    plt.title('Feature importance for Raw Features')\n",
      "    plt.show()\n",
      "plot_square(a)"
     ],
     "language": "python",
     "metadata": {},
     "outputs": []
    },
    {
     "cell_type": "code",
     "collapsed": false,
     "input": [
      "def plot_square(a):\n",
      "    f, ax = plt.subplots(1, 4, figsize=(19, 4))\n",
      "    for i in range(0, 3):\n",
      "        a_temp = a[:,:,i]\n",
      "        b = ax[i].pcolor(a_temp, vmin=0, vmax=2*0.0041)\n",
      "        ax[i].axis('off')\n",
      "    ax[3].pcolor(np.max(a,axis=2), vmin=0, vmax=2*0.0041)\n",
      "    ax[3].axis('off')\n",
      "    cbar_ax = f.add_axes([0.91, 0.15, 0.05, 0.7]) \n",
      "    f.colorbar(b, cax=cbar_ax)\n",
      "    ax[0].set_title('Red')\n",
      "    ax[1].set_title('Green')\n",
      "    ax[2].set_title('Blue')\n",
      "    ax[3].set_title('Max')\n",
      "    plt.show()\n",
      "plot_square(a)\n",
      "#plt.savefig('poster/images/heat_map_raw_rgba.jpg')"
     ],
     "language": "python",
     "metadata": {},
     "outputs": [],
     "prompt_number": 12
    }
   ],
   "metadata": {}
  }
 ]
}