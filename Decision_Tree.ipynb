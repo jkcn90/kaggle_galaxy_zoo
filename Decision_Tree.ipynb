{
 "metadata": {
  "name": "",
  "signature": "sha256:21e22b6201cab76e1d2a7b1d2e21b8defbf59800ec33b5c8515854ec42d847e4"
 },
 "nbformat": 3,
 "nbformat_minor": 0,
 "worksheets": [
  {
   "cells": [
    {
     "cell_type": "code",
     "collapsed": false,
     "input": [
      "#%matplotlib inline\n",
      "from matplotlib import pyplot as plt\n",
      "from galaxy_data import GalaxyData\n",
      "\n",
      "import numpy as np\n",
      "from sklearn import (tree, ensemble)\n",
      "import evaluate\n",
      "\n",
      "import StringIO\n",
      "import pydot\n",
      "\n",
      "import feature_extraction\n",
      "import SimpleCV as cv\n",
      "disp = cv.Display(displaytype='notebook')"
     ],
     "language": "python",
     "metadata": {},
     "outputs": [
      {
       "output_type": "stream",
       "stream": "stdout",
       "text": [
        "Running without denoise_tv_chambolle\n"
       ]
      }
     ],
     "prompt_number": 1
    },
    {
     "cell_type": "code",
     "collapsed": false,
     "input": [
      "data = GalaxyData(scale_features=False)\n",
      "(X_train, y_train) = data.get_training_data()\n",
      "(X_test, y_test) = data.get_test_data()"
     ],
     "language": "python",
     "metadata": {},
     "outputs": [
      {
       "output_type": "stream",
       "stream": "stdout",
       "text": [
        "Loading: output_data/default/feature_vectors_training\n",
        "Loading: output_data/default/feature_vectors_training"
       ]
      },
      {
       "output_type": "stream",
       "stream": "stdout",
       "text": [
        "\n"
       ]
      }
     ],
     "prompt_number": 2
    },
    {
     "cell_type": "code",
     "collapsed": false,
     "input": [
      "#clf = tree.DecisionTreeRegressor(min_samples_leaf=200)\n",
      "clf = ensemble.RandomForestRegressor(n_estimators=100, n_jobs=-1, verbose=5)\n",
      "clf.fit(X_train, y_train)"
     ],
     "language": "python",
     "metadata": {},
     "outputs": [
      {
       "output_type": "stream",
       "stream": "stderr",
       "text": [
        "[Parallel(n_jobs=4)]: Done   2 out of   4 | elapsed: 10.0min remaining: 10.0min\n",
        "[Parallel(n_jobs=4)]: Done   1 out of   4 | elapsed: 10.1min remaining: 30.3min\n",
        "[Parallel(n_jobs=4)]: Done   3 out of   4 | elapsed: 10.1min remaining:  3.4min\n",
        "[Parallel(n_jobs=4)]: Done   4 out of   4 | elapsed: 10.1min finished\n"
       ]
      },
      {
       "output_type": "stream",
       "stream": "stdout",
       "text": [
        "building tree 1 of 25\n",
        "building tree 1 of 25\n",
        "building tree 1 of 25\n",
        "building tree 1 of 25\n",
        "building tree 2 of 25building tree 2 of 25building tree 2 of 25building tree 2 of 25\n",
        "\n",
        "\n",
        "\n",
        "building tree 3 of 25building tree 3 of 25building tree 3 of 25building tree 3 of 25\n",
        "\n",
        "\n",
        "\n",
        "building tree 4 of 25building tree 4 of 25building tree 4 of 25building tree 4 of 25\n",
        "\n",
        "\n",
        "\n",
        "building tree 5 of 25building tree 5 of 25building tree 5 of 25building tree 5 of 25\n",
        "\n",
        "\n",
        "\n",
        "building tree 6 of 25building tree 6 of 25building tree 6 of 25building tree 6 of 25\n",
        "\n",
        "\n",
        "\n",
        "building tree 7 of 25building tree 7 of 25building tree 7 of 25building tree 7 of 25\n",
        "\n",
        "\n",
        "\n",
        "building tree 8 of 25building tree 8 of 25building tree 8 of 25building tree 8 of 25\n",
        "\n",
        "\n",
        "\n",
        "building tree 9 of 25building tree 9 of 25building tree 9 of 25building tree 9 of 25\n",
        "\n",
        "\n",
        "\n",
        "building tree 10 of 25building tree 10 of 25building tree 10 of 25building tree 10 of 25\n",
        "\n",
        "\n",
        "\n",
        "building tree 11 of 25building tree 11 of 25building tree 11 of 25building tree 11 of 25\n",
        "\n",
        "\n",
        "\n",
        "building tree 12 of 25building tree 12 of 25building tree 12 of 25building tree 12 of 25\n",
        "\n",
        "\n",
        "\n",
        "building tree 13 of 25building tree 13 of 25building tree 13 of 25building tree 13 of 25\n",
        "\n",
        "\n",
        "\n",
        "building tree 14 of 25building tree 14 of 25building tree 14 of 25building tree 14 of 25\n",
        "\n",
        "\n",
        "\n",
        "building tree 15 of 25building tree 15 of 25building tree 15 of 25building tree 15 of 25\n",
        "\n",
        "\n",
        "\n",
        "building tree 16 of 25building tree 16 of 25building tree 16 of 25building tree 16 of 25\n",
        "\n",
        "\n",
        "\n",
        "building tree 17 of 25building tree 17 of 25building tree 17 of 25building tree 17 of 25\n",
        "\n",
        "\n",
        "\n",
        "building tree 18 of 25building tree 18 of 25building tree 18 of 25building tree 18 of 25\n",
        "\n",
        "\n",
        "\n",
        "building tree 19 of 25building tree 19 of 25building tree 19 of 25building tree 19 of 25\n",
        "\n",
        "\n",
        "\n",
        "building tree 20 of 25building tree 20 of 25building tree 20 of 25building tree 20 of 25\n",
        "\n",
        "\n",
        "\n",
        "building tree 21 of 25building tree 21 of 25building tree 21 of 25building tree 21 of 25\n",
        "\n",
        "\n",
        "\n",
        "building tree 22 of 25building tree 22 of 25building tree 22 of 25building tree 22 of 25\n",
        "\n",
        "\n",
        "\n",
        "building tree 23 of 25building tree 23 of 25building tree 23 of 25building tree 23 of 25\n",
        "\n",
        "\n",
        "\n",
        "building tree 24 of 25building tree 24 of 25building tree 24 of 25building tree 24 of 25\n",
        "\n",
        "\n",
        "\n",
        "building tree 25 of 25building tree 25 of 25building tree 25 of 25building tree 25 of 25\n",
        "\n",
        "\n",
        "\n"
       ]
      },
      {
       "metadata": {},
       "output_type": "pyout",
       "prompt_number": 3,
       "text": [
        "RandomForestRegressor(bootstrap=True, compute_importances=None,\n",
        "           criterion='mse', max_depth=None, max_features='auto',\n",
        "           min_density=None, min_samples_leaf=1, min_samples_split=2,\n",
        "           n_estimators=100, n_jobs=-1, oob_score=False, random_state=None,\n",
        "           verbose=5)"
       ]
      }
     ],
     "prompt_number": 3
    },
    {
     "cell_type": "code",
     "collapsed": false,
     "input": [
      "def create_pdf(clf):\n",
      "    dot_data = StringIO.StringIO() \n",
      "    tree.export_graphviz(clf, out_file=dot_data) \n",
      "    graph = pydot.graph_from_dot_data(dot_data.getvalue()) \n",
      "    graph.write_pdf(\"tree.pdf\") \n",
      "#create_pdf(clf)"
     ],
     "language": "python",
     "metadata": {},
     "outputs": [],
     "prompt_number": 4
    },
    {
     "cell_type": "code",
     "collapsed": false,
     "input": [
      "score = evaluate.get_rmse_clf(clf, X_test, y_test)\n",
      "score"
     ],
     "language": "python",
     "metadata": {},
     "outputs": [
      {
       "output_type": "stream",
       "stream": "stderr",
       "text": [
        "[Parallel(n_jobs=4)]: Done   1 out of   4 | elapsed:    1.2s remaining:    3.6s\n",
        "[Parallel(n_jobs=4)]: Done   2 out of   4 | elapsed:    1.7s remaining:    1.7s\n",
        "[Parallel(n_jobs=4)]: Done   3 out of   4 | elapsed:    2.1s remaining:    0.7s\n",
        "[Parallel(n_jobs=4)]: Done   4 out of   4 | elapsed:    2.6s finished\n"
       ]
      },
      {
       "metadata": {},
       "output_type": "pyout",
       "prompt_number": 5,
       "text": [
        "0.1669592221280363"
       ]
      }
     ],
     "prompt_number": 5
    },
    {
     "cell_type": "code",
     "collapsed": false,
     "input": [
      "a = clf.feature_importances_\n",
      "a = a.reshape(9, 9, 3)"
     ],
     "language": "python",
     "metadata": {},
     "outputs": [],
     "prompt_number": 6
    },
    {
     "cell_type": "code",
     "collapsed": false,
     "input": [
      "print(min(clf.feature_importances_))\n",
      "print(np.average(clf.feature_importances_))\n",
      "print(max(clf.feature_importances_))"
     ],
     "language": "python",
     "metadata": {},
     "outputs": [
      {
       "output_type": "stream",
       "stream": "stdout",
       "text": [
        "1.08488135804e-05\n",
        "0.00411522633745\n",
        "0.538933623625"
       ]
      },
      {
       "output_type": "stream",
       "stream": "stdout",
       "text": [
        "\n"
       ]
      }
     ],
     "prompt_number": 7
    },
    {
     "cell_type": "code",
     "collapsed": false,
     "input": [
      "def plot_square(a):\n",
      "    f, ax = plt.subplots(1, 4, figsize=(19, 4))\n",
      "    for i in range(0, 3):\n",
      "        a_temp = a[:,:,i]\n",
      "        b = ax[i].pcolor(a_temp, vmin=0, vmax=2*0.0041)\n",
      "    ax[3].pcolor(np.sum(a,axis=2), vmin=0, vmax=2*0.0041)\n",
      "    cbar_ax = f.add_axes([0.91, 0.15, 0.05, 0.7]) \n",
      "    f.colorbar(b, cax=cbar_ax)\n",
      "plot_square(a)\n"
     ],
     "language": "python",
     "metadata": {},
     "outputs": [],
     "prompt_number": 8
    },
    {
     "cell_type": "code",
     "collapsed": false,
     "input": [
      "def plot_square(a):\n",
      "    f, ax = plt.subplots(1, 4, figsize=(19, 4))\n",
      "    for i in range(0, 3):\n",
      "        a_temp = a[:,:,i]\n",
      "        b = ax[i].pcolor(a_temp, vmin=0, vmax=2*0.0041)\n",
      "        ax[i].axis('off')\n",
      "    ax[3].pcolor(np.sum(a,axis=2), vmin=0, vmax=2*0.0041)\n",
      "    ax[3].axis('off')\n",
      "    cbar_ax = f.add_axes([0.91, 0.15, 0.05, 0.7]) \n",
      "    f.colorbar(b, cax=cbar_ax)\n",
      "    ax[0].set_title('Red')\n",
      "    ax[1].set_title('Green')\n",
      "    ax[2].set_title('Blue')\n",
      "    ax[3].set_title('All')\n",
      "plot_square(a)\n",
      "#plt.savefig('poster/images/heat_map_raw_rgba.jpg')\n",
      "plt.show()"
     ],
     "language": "python",
     "metadata": {},
     "outputs": [],
     "prompt_number": 9
    },
    {
     "cell_type": "code",
     "collapsed": false,
     "input": [
      "def plot_square(a):\n",
      "    f, ax = plt.subplots(1, 3, figsize=(14, 4))\n",
      "    for i in range(0, 3):\n",
      "        a_temp = a[:,:,i]\n",
      "        b = ax[i].pcolor(a_temp, vmin=0, vmax=2*0.0041)\n",
      "        ax[i].axis('off')\n",
      "    cbar_ax = f.add_axes([0.91, 0.15, 0.05, 0.7]) \n",
      "    f.colorbar(b, cax=cbar_ax)\n",
      "    ax[0].set_title('Red')\n",
      "    ax[1].set_title('Green')\n",
      "    ax[2].set_title('Blue')\n",
      "plot_square(a)\n",
      "#plt.savefig('poster/images/heat_map_raw_rgb.jpg')\n",
      "plt.show()"
     ],
     "language": "python",
     "metadata": {},
     "outputs": [],
     "prompt_number": 10
    },
    {
     "cell_type": "code",
     "collapsed": false,
     "input": [
      "array = feature_extraction.raw('input_data/images_training_rev1/780092.jpg')\n",
      "array = array[1:]\n",
      "img_array = array.reshape(9, 9, 3)\n",
      "img_array = img_array[:,:,0]\n",
      "\n",
      "plt.imshow(img_array, interpolation='nearest')\n",
      "#plt.imshow(img_array)"
     ],
     "language": "python",
     "metadata": {},
     "outputs": [
      {
       "metadata": {},
       "output_type": "pyout",
       "prompt_number": 11,
       "text": [
        "<matplotlib.image.AxesImage at 0x10cca7d50>"
       ]
      }
     ],
     "prompt_number": 11
    },
    {
     "cell_type": "code",
     "collapsed": false,
     "input": [
      "img_array1 = X_train.ix[780092]\n",
      "img_array1 = img_array1.reshape((9, 9, 3))\n",
      "img_array1 = img_array1[:,:,0]\n",
      "plt.imshow(img_array, interpolation='nearest')\n",
      "#plt.imshow(img_array1)"
     ],
     "language": "python",
     "metadata": {},
     "outputs": [
      {
       "metadata": {},
       "output_type": "pyout",
       "prompt_number": 12,
       "text": [
        "<matplotlib.image.AxesImage at 0x10ccaa150>"
       ]
      }
     ],
     "prompt_number": 12
    }
   ],
   "metadata": {}
  }
 ]
}