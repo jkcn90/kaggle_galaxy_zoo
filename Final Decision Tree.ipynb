{
 "metadata": {
  "name": "",
  "signature": "sha256:54df326dc334685a5b81c74ad41775e6951ee9d56dd54e39c7995197065fd74e"
 },
 "nbformat": 3,
 "nbformat_minor": 0,
 "worksheets": [
  {
   "cells": [
    {
     "cell_type": "code",
     "collapsed": false,
     "input": [
      "from sklearn import (tree, ensemble, metrics, dummy)\n",
      "from sklearn.linear_model import Lasso\n",
      "\n",
      "from galaxy_data import GalaxyData\n",
      "import evaluate\n",
      "import feature_extraction\n",
      "import matplotlib.pyplot as plt \n",
      "import numpy as np\n",
      "import pandas as pd\n",
      "from multiprocessing import Pool \n",
      "from operator import itemgetter "
     ],
     "language": "python",
     "metadata": {},
     "outputs": [
      {
       "output_type": "stream",
       "stream": "stdout",
       "text": [
        "Running without denoise_tv_chambolle\n"
       ]
      }
     ],
     "prompt_number": 1
    },
    {
     "cell_type": "code",
     "collapsed": false,
     "input": [
      "data = GalaxyData(feature_extraction.hog_features, scale_features=False)\n",
      "#data = GalaxyData(scale_features=False)\n",
      "(X_train, y_train, X_validate, y_validate) = data.split_training_and_validation_data()"
     ],
     "language": "python",
     "metadata": {},
     "outputs": [
      {
       "output_type": "stream",
       "stream": "stdout",
       "text": [
        "Loading: output_data/hog_features/feature_vectors_training\n"
       ]
      }
     ],
     "prompt_number": 2
    },
    {
     "cell_type": "code",
     "collapsed": false,
     "input": [
      "def get_errors(input_data):\n",
      "    (values, X_train, y_train, X_validate, y_validate) = input_data\n",
      "    #clf = tree.DecisionTreeRegressor(min_samples_split=values)\n",
      "    #clf = ensemble.RandomForestRegressor(max_features='log2', n_estimators=values)\n",
      "    clf = ensemble.RandomForestRegressor(max_features='log2', n_estimators=40, min_samples_split=values)\n",
      "    clf.fit(X_train, y_train)\n",
      "    validate_errors = evaluate.get_errors_clf(clf, X_validate, y_validate)\n",
      "    training_errors = evaluate.get_errors_clf(clf, X_train, y_train)\n",
      "    return (validate_errors, training_errors)"
     ],
     "language": "python",
     "metadata": {},
     "outputs": [],
     "prompt_number": 3
    },
    {
     "cell_type": "code",
     "collapsed": false,
     "input": [
      "# Hog\n",
      "# Decision tree min_samples_split\n",
      "#values = range(2, 3000, 100)\n",
      "\n",
      "# Random Forest n_estimators\n",
      "#values = range(1, 100)\n",
      "\n",
      "# Random Forest min_samples_split\n",
      "values = range(2, 1000, 20)\n",
      "\n",
      "#-----------------------------------------------\n",
      "# Raw Pixels\n",
      "# Decision tree min_samples_split\n",
      "#values = range(2, 10000, 100)\n",
      "\n",
      "# Random Forest n_estimators\n",
      "#values = range(1, 100)\n",
      "\n",
      "# Random Forest min_samples_split\n",
      "values = range(2, 1000, 10)\n",
      "\n",
      "pool = Pool()\n",
      "input_data_list = [(x, X_train, y_train, X_validate, y_validate) for x in values]\n",
      "output = np.array(pool.map(get_errors, input_data_list))\n",
      "validate_errors_list = output[:,0]\n",
      "training_errors_list = output[:,1]\n",
      "\n",
      "pool.close()\n",
      "pool.join()"
     ],
     "language": "python",
     "metadata": {},
     "outputs": [],
     "prompt_number": 4
    },
    {
     "cell_type": "code",
     "collapsed": false,
     "input": [
      "dr = dummy.DummyRegressor()\n",
      "dr.fit(X_train, y_train)\n",
      "base_line_error = evaluate.get_errors_clf(dr, X_validate, y_validate)\n",
      "base_line_error_list = [base_line_error for x in values]"
     ],
     "language": "python",
     "metadata": {},
     "outputs": [],
     "prompt_number": 5
    },
    {
     "cell_type": "code",
     "collapsed": false,
     "input": [
      "def resolve_errors_lists(errors_list):\n",
      "    rmse = [x[0] for x in errors_list]\n",
      "    kl_divergence = [x[1] for x in errors_list]\n",
      "    kl_divergence = [x if x != float('Inf') else 0.25 for x in kl_divergence]\n",
      "    return (rmse, kl_divergence)"
     ],
     "language": "python",
     "metadata": {},
     "outputs": [],
     "prompt_number": 6
    },
    {
     "cell_type": "code",
     "collapsed": false,
     "input": [
      "def plot_data(values, validate_errors_list, training_errors_list, base_line_error_list):\n",
      "    # Setup error types\n",
      "    error_types = ['rmse', 'KL divergence']\n",
      "    validation_errors = resolve_errors_lists(validate_errors_list)\n",
      "    training_errors = resolve_errors_lists(training_errors_list)\n",
      "    base_line_errors = resolve_errors_lists(base_line_error_list)\n",
      "    \n",
      "    for (i, error_type) in enumerate(error_types):\n",
      "        plt.subplot(1, 2, i) \n",
      "        plt.plot(values, validation_errors[i], label='validation')\n",
      "        plt.plot(values, training_errors[i], label='training')\n",
      "        plt.plot(values, base_line_errors[i], label='baseline(mean)')\n",
      "        plt.plot()\n",
      "        plt.title('Training and Validation ' + error_type)\n",
      "        plt.legend(loc='right', bbox_to_anchor = (0.9, 0.3) )\n",
      "        plt.xlabel('min_samples_split')\n",
      "        plt.ylabel(error_type)\n",
      "    plt.show()"
     ],
     "language": "python",
     "metadata": {},
     "outputs": [],
     "prompt_number": 7
    },
    {
     "cell_type": "code",
     "collapsed": false,
     "input": [
      "plot_data(values, validate_errors_list, training_errors_list, base_line_error_list)"
     ],
     "language": "python",
     "metadata": {},
     "outputs": [],
     "prompt_number": 8
    },
    {
     "cell_type": "code",
     "collapsed": false,
     "input": [
      "(min_rsme_value_index, min_rsme_value) = min(enumerate(validate_errors_list[:,0]), key=itemgetter(1))\n",
      "print('minimum rmse: ' + str(min_rsme_value) + \n",
      "      ' value: ' + str(values[min_rsme_value_index]))\n",
      "\n",
      "(min_kl_divergence_value_index, min_kl_divergence_value) = min(enumerate(validate_errors_list[:,1]), key=itemgetter(1))\n",
      "print('minimum kl_divergence: ' + str(min_kl_divergence_value) + \n",
      "      ' value: ' + str(values[min_kl_divergence_value_index]))"
     ],
     "language": "python",
     "metadata": {},
     "outputs": [
      {
       "output_type": "stream",
       "stream": "stdout",
       "text": [
        "minimum rmse: 0.196993843399 value: 22\n",
        "minimum kl_divergence: 0.165453151351 value: 32\n"
       ]
      }
     ],
     "prompt_number": 10
    }
   ],
   "metadata": {}
  }
 ]
}