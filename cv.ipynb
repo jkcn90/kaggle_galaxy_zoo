{
 "metadata": {
  "name": "",
  "signature": "sha256:fe271543354a062f7b8d224dd71711b10be7333f99f26157f0de4cd3f3f42f7d"
 },
 "nbformat": 3,
 "nbformat_minor": 0,
 "worksheets": [
  {
   "cells": [
    {
     "cell_type": "code",
     "collapsed": false,
     "input": [
      "from galaxy_data import GalaxyData\n",
      "from sklearn import (grid_search, ensemble)\n",
      "\n",
      "import evaluate"
     ],
     "language": "python",
     "metadata": {},
     "outputs": [
      {
       "output_type": "stream",
       "stream": "stdout",
       "text": [
        "Running without denoise_tv_chambolle\n"
       ]
      }
     ],
     "prompt_number": 1
    },
    {
     "cell_type": "code",
     "collapsed": false,
     "input": [
      "data = GalaxyData(scale_features=False)\n",
      "(X_train, y_train) = data.get_training_data()"
     ],
     "language": "python",
     "metadata": {},
     "outputs": [
      {
       "output_type": "stream",
       "stream": "stdout",
       "text": [
        "Loading: output_data/default/feature_vectors_training\n"
       ]
      }
     ],
     "prompt_number": 2
    },
    {
     "cell_type": "code",
     "collapsed": false,
     "input": [
      "clf = ensemble.RandomForestRegressor(n_estimators=100, max_features='log2')\n",
      "clf.get_params()"
     ],
     "language": "python",
     "metadata": {},
     "outputs": [
      {
       "metadata": {},
       "output_type": "pyout",
       "prompt_number": 3,
       "text": [
        "{'bootstrap': True,\n",
        " 'compute_importances': None,\n",
        " 'criterion': 'mse',\n",
        " 'max_depth': None,\n",
        " 'max_features': 'log2',\n",
        " 'min_density': None,\n",
        " 'min_samples_leaf': 1,\n",
        " 'min_samples_split': 2,\n",
        " 'n_estimators': 100,\n",
        " 'n_jobs': 1,\n",
        " 'oob_score': False,\n",
        " 'random_state': None,\n",
        " 'verbose': 0}"
       ]
      }
     ],
     "prompt_number": 3
    },
    {
     "cell_type": "code",
     "collapsed": false,
     "input": [
      "parameters = {'max_depth': [5, 10, 15, 20, 25, 30]} \n",
      "\n",
      "gs = grid_search.GridSearchCV(clf, param_grid=parameters, scoring=evaluate.get_rmse_clf, n_jobs=-1, cv=5, verbose=5)\n",
      "gs.fit(X_train, y_train)"
     ],
     "language": "python",
     "metadata": {},
     "outputs": [
      {
       "output_type": "stream",
       "stream": "stdout",
       "text": [
        "Fitting 5 folds for each of 6 candidates, totalling 30 fits\n"
       ]
      },
      {
       "output_type": "stream",
       "stream": "stderr",
       "text": [
        "[Parallel(n_jobs=-1)]: Done   1 jobs       | elapsed:   23.2s\n",
        "[Parallel(n_jobs=-1)]: Done  18 jobs       | elapsed:  3.1min\n",
        "[Parallel(n_jobs=-1)]: Done  24 out of  30 | elapsed:  4.4min remaining:  1.1min\n",
        "[Parallel(n_jobs=-1)]: Done  30 out of  30 | elapsed:  5.8min finished\n"
       ]
      },
      {
       "output_type": "stream",
       "stream": "stdout",
       "text": [
        "[GridSearchCV] max_depth=5 .....................................................\n",
        "[GridSearchCV] max_depth=5 .....................................................\n",
        "[GridSearchCV] max_depth=5 .....................................................\n",
        "[GridSearchCV] max_depth=5 .....................................................\n",
        "[GridSearchCV] ............................ max_depth=5, score=0.195083 -  22.9s[GridSearchCV] ............................ max_depth=5, score=0.192834 -  22.9s[GridSearchCV] ............................ max_depth=5, score=0.193105 -  23.2s[GridSearchCV] ............................ max_depth=5, score=0.195064 -  23.2s\n",
        "\n",
        "\n",
        "\n",
        "[GridSearchCV] max_depth=5 .....................................................[GridSearchCV] max_depth=10 ....................................................[GridSearchCV] max_depth=10 ....................................................[GridSearchCV] max_depth=10 ....................................................\n",
        "\n",
        "\n",
        "\n",
        "[GridSearchCV] ............................ max_depth=5, score=0.193506 -  21.3s[GridSearchCV] ........................... max_depth=10, score=0.179847 -  33.1s[GridSearchCV] ........................... max_depth=10, score=0.177258 -  33.0s[GridSearchCV] ........................... max_depth=10, score=0.178473 -  32.9s\n",
        "\n",
        "\n",
        "\n",
        "[GridSearchCV] max_depth=10 ....................................................[GridSearchCV] max_depth=10 ....................................................[GridSearchCV] max_depth=15 ....................................................[GridSearchCV] max_depth=15 ....................................................\n",
        "\n",
        "\n",
        "\n",
        "[GridSearchCV] ........................... max_depth=10, score=0.180513 -  32.2s[GridSearchCV] ........................... max_depth=10, score=0.179011 -  32.0s[GridSearchCV] ........................... max_depth=15, score=0.176215 -  44.6s[GridSearchCV] ........................... max_depth=15, score=0.173679 -  44.7s\n",
        "\n",
        "\n",
        "\n",
        "[GridSearchCV] max_depth=15 ....................................................[GridSearchCV] max_depth=15 ....................................................[GridSearchCV] max_depth=15 ....................................................[GridSearchCV] max_depth=20 ....................................................\n",
        "\n",
        "\n",
        "\n",
        "[GridSearchCV] ........................... max_depth=15, score=0.175142 -  43.6s[GridSearchCV] ........................... max_depth=15, score=0.176537 -  43.5s[GridSearchCV] ........................... max_depth=15, score=0.175535 -  44.4s[GridSearchCV] ........................... max_depth=20, score=0.175043 -  53.8s\n",
        "\n",
        "\n",
        "\n",
        "[GridSearchCV] max_depth=20 ....................................................[GridSearchCV] max_depth=20 ....................................................[GridSearchCV] max_depth=20 ....................................................[GridSearchCV] max_depth=20 ....................................................\n",
        "\n",
        "\n",
        "\n",
        "[GridSearchCV] ........................... max_depth=20, score=0.172798 -  52.8s[GridSearchCV] ........................... max_depth=20, score=0.174310 -  52.6s[GridSearchCV] ........................... max_depth=20, score=0.176355 -  50.7s[GridSearchCV] ........................... max_depth=20, score=0.175039 -  50.8s\n",
        "\n",
        "\n",
        "\n",
        "[GridSearchCV] max_depth=25 ....................................................[GridSearchCV] max_depth=25 ....................................................[GridSearchCV] max_depth=25 ....................................................[GridSearchCV] max_depth=25 ....................................................\n",
        "\n",
        "\n",
        "\n",
        "[GridSearchCV] ........................... max_depth=25, score=0.175668 -  54.9s[GridSearchCV] ........................... max_depth=25, score=0.173219 -  54.4s[GridSearchCV] ........................... max_depth=25, score=0.174445 -  56.7s[GridSearchCV] ........................... max_depth=25, score=0.176568 -  58.3s\n",
        "\n",
        "\n",
        "\n",
        "[GridSearchCV] max_depth=25 ....................................................[GridSearchCV] max_depth=30 ....................................................[GridSearchCV] max_depth=30 ....................................................[GridSearchCV] max_depth=30 ....................................................\n",
        "\n",
        "\n",
        "\n",
        "[GridSearchCV] ........................... max_depth=25, score=0.175395 - 1.0min[GridSearchCV] ........................... max_depth=30, score=0.175458 - 1.1min[GridSearchCV] ........................... max_depth=30, score=0.172976 - 1.0min[GridSearchCV] ........................... max_depth=30, score=0.174561 -  57.5s\n",
        "\n",
        "\n",
        "\n",
        "[GridSearchCV] max_depth=30 ....................................................[GridSearchCV] max_depth=30 ....................................................\n",
        "\n",
        "[GridSearchCV] ........................... max_depth=30, score=0.175935 -  49.2s[GridSearchCV] ........................... max_depth=30, score=0.175577 -  43.2s\n",
        "\n"
       ]
      },
      {
       "metadata": {},
       "output_type": "pyout",
       "prompt_number": 4,
       "text": [
        "GridSearchCV(cv=5,\n",
        "       estimator=RandomForestRegressor(bootstrap=True, compute_importances=None,\n",
        "           criterion='mse', max_depth=None, max_features='log2',\n",
        "           min_density=None, min_samples_leaf=1, min_samples_split=2,\n",
        "           n_estimators=100, n_jobs=1, oob_score=False, random_state=None,\n",
        "           verbose=0),\n",
        "       fit_params={}, iid=True, loss_func=None, n_jobs=-1,\n",
        "       param_grid={'max_depth': [5, 10, 15, 20, 25, 30]},\n",
        "       pre_dispatch='2*n_jobs', refit=True, score_func=None,\n",
        "       scoring=<function get_rmse_clf at 0x10acc4410>, verbose=5)"
       ]
      }
     ],
     "prompt_number": 4
    },
    {
     "cell_type": "code",
     "collapsed": false,
     "input": [
      "gs.grid_scores_"
     ],
     "language": "python",
     "metadata": {},
     "outputs": [
      {
       "metadata": {},
       "output_type": "pyout",
       "prompt_number": 5,
       "text": [
        "[mean: 0.19392, std: 0.00097, params: {'max_depth': 5},\n",
        " mean: 0.17902, std: 0.00112, params: {'max_depth': 10},\n",
        " mean: 0.17542, std: 0.00100, params: {'max_depth': 15},\n",
        " mean: 0.17471, std: 0.00116, params: {'max_depth': 20},\n",
        " mean: 0.17506, std: 0.00114, params: {'max_depth': 25},\n",
        " mean: 0.17490, std: 0.00106, params: {'max_depth': 30}]"
       ]
      }
     ],
     "prompt_number": 5
    }
   ],
   "metadata": {}
  }
 ]
}