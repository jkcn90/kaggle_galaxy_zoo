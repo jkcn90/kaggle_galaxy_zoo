{
 "metadata": {
  "name": "",
  "signature": "sha256:282672c5325edd8a8430601c4f43814c09763133b06347b8ed8c2032b8b5bae5"
 },
 "nbformat": 3,
 "nbformat_minor": 0,
 "worksheets": [
  {
   "cells": [
    {
     "cell_type": "code",
     "collapsed": false,
     "input": [
      "from galaxy_data import GalaxyData\n",
      "from sklearn import (grid_search, ensemble)\n",
      "\n",
      "import evaluate"
     ],
     "language": "python",
     "metadata": {},
     "outputs": [
      {
       "output_type": "stream",
       "stream": "stdout",
       "text": [
        "Running without denoise_tv_chambolle\n"
       ]
      }
     ],
     "prompt_number": 1
    },
    {
     "cell_type": "code",
     "collapsed": false,
     "input": [
      "data = GalaxyData(scale_features=False)\n",
      "(X_train, y_train) = data.get_training_data()"
     ],
     "language": "python",
     "metadata": {},
     "outputs": [
      {
       "output_type": "stream",
       "stream": "stdout",
       "text": [
        "Loading: output_data/default/feature_vectors_training\n"
       ]
      }
     ],
     "prompt_number": 2
    },
    {
     "cell_type": "code",
     "collapsed": false,
     "input": [
      "clf = ensemble.RandomForestRegressor(n_estimators=100, max_features='log2')\n",
      "clf.get_params()"
     ],
     "language": "python",
     "metadata": {},
     "outputs": [
      {
       "metadata": {},
       "output_type": "pyout",
       "prompt_number": 3,
       "text": [
        "{'bootstrap': True,\n",
        " 'compute_importances': None,\n",
        " 'criterion': 'mse',\n",
        " 'max_depth': None,\n",
        " 'max_features': 'log2',\n",
        " 'min_density': None,\n",
        " 'min_samples_leaf': 1,\n",
        " 'min_samples_split': 2,\n",
        " 'n_estimators': 100,\n",
        " 'n_jobs': 1,\n",
        " 'oob_score': False,\n",
        " 'random_state': None,\n",
        " 'verbose': 0}"
       ]
      }
     ]
    },
    {
     "cell_type": "code",
     "collapsed": false,
     "input": [
      "parameters = {'max_depth': [5, 10, 15, 20, 25, 30]} \n",
      "\n",
      "gs = grid_search.GridSearchCV(clf, param_grid=parameters, scoring=evaluate.get_rmse_clf, n_jobs=-1, cv=5, verbose=5)\n",
      "gs.fit(X_train, y_train)"
     ],
     "language": "python",
     "metadata": {},
     "outputs": [
      {
       "output_type": "stream",
       "stream": "stdout",
       "text": [
        "Fitting 5 folds for each of 6 candidates, totalling 30 fits\n"
       ]
      }
     ]
    }
   ],
   "metadata": {}
  }
 ]
}