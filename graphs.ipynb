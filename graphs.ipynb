{
 "metadata": {
  "name": "",
  "signature": "sha256:41edec6303a480b34cdafe18e98a471a5bd2193677cab8c08bde3a849f1b6b05"
 },
 "nbformat": 3,
 "nbformat_minor": 0,
 "worksheets": [
  {
   "cells": [
    {
     "cell_type": "code",
     "collapsed": false,
     "input": [
      "import math\n",
      "import numpy as np\n",
      "from galaxy_data import GalaxyData\n",
      "\n",
      "from sklearn import (ensemble, metrics)"
     ],
     "language": "python",
     "metadata": {},
     "outputs": [],
     "prompt_number": 94
    },
    {
     "cell_type": "code",
     "collapsed": false,
     "input": [
      "data = GalaxyData(scale_features=False)\n",
      "(X_train, y_train) = data.get_training_data()\n",
      "(X_test, y_test) = data.get_test_data()"
     ],
     "language": "python",
     "metadata": {},
     "outputs": [
      {
       "output_type": "stream",
       "stream": "stdout",
       "text": [
        "Loading: output_data/default/feature_vectors_training\n",
        "Loading: output_data/default/feature_vectors_training"
       ]
      },
      {
       "output_type": "stream",
       "stream": "stdout",
       "text": [
        "\n"
       ]
      }
     ],
     "prompt_number": 4
    },
    {
     "cell_type": "code",
     "collapsed": false,
     "input": [
      "clf = ensemble.RandomForestRegressor(n_estimators=10, n_jobs=-1, verbose=5)"
     ],
     "language": "python",
     "metadata": {},
     "outputs": [],
     "prompt_number": 102
    },
    {
     "cell_type": "code",
     "collapsed": false,
     "input": [
      "def cross_validate(clf, X, y, cv=5):\n",
      "    if cv < 2:\n",
      "        raise Exception(\"cv must be greater than 2\")\n",
      "    index = X.index\n",
      "    num_images = index.shape[0]\n",
      "    slice_size = num_images / cv\n",
      "\n",
      "    rmse_list = []\n",
      "    \n",
      "    for i in range(0, cv):\n",
      "        # Setup indicies\n",
      "        validate_index = index[i*slice_size:(i+1)*slice_size]\n",
      "        train_index = index.drop(validate_index)\n",
      "\n",
      "        X_validate = X.ix[validate_index]\n",
      "        X_train = X.ix[train_index]\n",
      "        \n",
      "        y_validate = y.ix[validate_index]\n",
      "        y_train = y.ix[train_index]\n",
      "        \n",
      "        # Get rmse\n",
      "        clf.fit(X_train, y_train)\n",
      "        y_predicted = clf.predict(X_validate)\n",
      "        rmse = math.sqrt(metrics.mean_squared_error(y_validate, y_predicted))\n",
      "        rmse_list.append(rmse)\n",
      "    rmse_list = np.array(rmse_list)\n",
      "    return rmse_list"
     ],
     "language": "python",
     "metadata": {},
     "outputs": [],
     "prompt_number": 103
    },
    {
     "cell_type": "code",
     "collapsed": false,
     "input": [
      "scores = cross_validate(clf, X_train, y_train, 2)\n",
      "mean_score = sum(scores) / float(scores.shape[0])\n",
      "print(scores)\n",
      "print(mean_score)"
     ],
     "language": "python",
     "metadata": {},
     "outputs": [
      {
       "output_type": "stream",
       "stream": "stderr",
       "text": [
        "[Parallel(n_jobs=4)]: Done   3 out of   4 | elapsed:   20.5s remaining:    6.8s\n",
        "[Parallel(n_jobs=4)]: Done   2 out of   4 | elapsed:   27.7s remaining:   27.7s\n",
        "[Parallel(n_jobs=4)]: Done   1 out of   4 | elapsed:   27.8s remaining:  1.4min\n",
        "[Parallel(n_jobs=4)]: Done   4 out of   4 | elapsed:   27.8s finished\n"
       ]
      },
      {
       "output_type": "stream",
       "stream": "stdout",
       "text": [
        "building tree 1 of 3\n",
        "building tree 1 of 3\n",
        "building tree 1 of 2\n",
        "building tree 1 of 2\n",
        "building tree 2 of 3building tree 2 of 3building tree 2 of 2building tree 2 of 2\n",
        "\n",
        "\n",
        "\n",
        "building tree 3 of 3building tree 3 of 3\n",
        "\n"
       ]
      },
      {
       "output_type": "stream",
       "stream": "stderr",
       "text": [
        "[Parallel(n_jobs=4)]: Done   1 out of   4 | elapsed:    0.2s remaining:    0.5s\n",
        "[Parallel(n_jobs=4)]: Done   2 out of   4 | elapsed:    0.2s remaining:    0.2s\n",
        "[Parallel(n_jobs=4)]: Done   3 out of   4 | elapsed:    0.3s remaining:    0.1s\n",
        "[Parallel(n_jobs=4)]: Done   4 out of   4 | elapsed:    0.3s finished\n"
       ]
      },
      {
       "output_type": "stream",
       "stream": "stderr",
       "text": [
        "[Parallel(n_jobs=4)]: Done   3 out of   4 | elapsed:   20.6s remaining:    6.9s\n",
        "[Parallel(n_jobs=4)]: Done   1 out of   4 | elapsed:   27.4s remaining:  1.4min\n",
        "[Parallel(n_jobs=4)]: Done   2 out of   4 | elapsed:   28.2s remaining:   28.2s\n",
        "[Parallel(n_jobs=4)]: Done   4 out of   4 | elapsed:   28.2s finished\n"
       ]
      },
      {
       "output_type": "stream",
       "stream": "stdout",
       "text": [
        "building tree 1 of 3\n",
        "building tree 1 of 3\n",
        "building tree 1 of 2\n",
        "building tree 1 of 2\n",
        "building tree 2 of 3building tree 2 of 3building tree 2 of 2building tree 2 of 2\n",
        "\n",
        "\n",
        "\n",
        "building tree 3 of 3building tree 3 of 3\n",
        "\n"
       ]
      },
      {
       "output_type": "stream",
       "stream": "stderr",
       "text": [
        "[Parallel(n_jobs=4)]: Done   1 out of   4 | elapsed:    0.1s remaining:    0.4s\n",
        "[Parallel(n_jobs=4)]: Done   2 out of   4 | elapsed:    0.2s remaining:    0.2s\n",
        "[Parallel(n_jobs=4)]: Done   3 out of   4 | elapsed:    0.2s remaining:    0.1s\n",
        "[Parallel(n_jobs=4)]: Done   4 out of   4 | elapsed:    0.3s finished\n"
       ]
      },
      {
       "output_type": "stream",
       "stream": "stdout",
       "text": [
        "[ 0.17984206  0.18053162]\n",
        "0.180186839994\n"
       ]
      }
     ],
     "prompt_number": 104
    }
   ],
   "metadata": {}
  }
 ]
}